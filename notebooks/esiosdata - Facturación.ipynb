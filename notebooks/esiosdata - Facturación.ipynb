{
 "cells": [
  {
   "cell_type": "markdown",
   "metadata": {},
   "source": [
    "# Facturación de electricidad conforme al PVPC\n",
    "\n",
    "Simulación de la facturación eléctrica para instalaciones monofásicas de potencia contratada ≤ 10 kW y voltaje < 1kV (instalaciones típicas de particulares)\n",
    "Admite como entrada consumos totales (tantos como periodos de discriminación horaria en la tarifa seleccionada) o bien consumos horarios. \n",
    "También genera consumos horarios en base a mediciones totales, usando los perfiles de consumo del PVPC, y genera el CSV de consumo horario conforme al formato utilizado por las distribuidoras.\n",
    "\n",
    "## Facturas:"
   ]
  },
  {
   "cell_type": "code",
   "execution_count": 1,
   "metadata": {
    "ExecuteTime": {
     "end_time": "2017-02-01T16:41:44.727391",
     "start_time": "2017-02-01T16:41:44.034211"
    },
    "collapsed": false
   },
   "outputs": [
    {
     "name": "stdout",
     "output_type": "stream",
     "text": [
      "\u001b[1m\u001b[32mFACTURA ELÉCTRICA:\n",
      "--------------------------------------------------------------------------------\n",
      "* Fecha inicio             \t01/11/2016\n",
      "* Fecha final              \t05/01/2017\n",
      "* Peaje de acceso          \t2.0DHS (Vehículo eléctrico)\n",
      "* Potencia contratada      \t3.45 kW\n",
      "* Consumo periodo          \t499.00 kWh\n",
      "* ¿Bono Social?            \tNo\n",
      "* Equipo de medida         \t1.73 €\n",
      "* Impuestos                \tPenínsula y Baleares (IVA)\n",
      "* Días facturables         \t65\n",
      "--------------------------------------------------------------------------------\n",
      "\n",
      "- CÁLCULO DEL TÉRMINO FIJO POR POTENCIA CONTRATADA:\n",
      "    3.45 kW * 42.043426 €/kW/año * 60 días (2016) / 366 = 23.78 €\n",
      "    3.45 kW * 41.156426 €/kW/año * 5 días (2017) / 365 = 1.95 €\n",
      "     -> Término fijo                                                   25.72 €\n",
      "\n",
      "- CÁLCULO DEL TÉRMINO VARIABLE POR ENERGÍA CONSUMIDA (TARIFA 2.0DHS):\n",
      "   *Tramo 1, de 01/11/2016 a 31/12/2016:\n",
      "    Periodo 1: 0.151329 €/kWh                          -> 30.51€(P1)\n",
      "    - Peaje de acceso: 202kWh * 0.062012€/kWh = 12.50€\n",
      "    - Coste de la energía: 202kWh * 0.089317€/kWh = 18.01€\n",
      "    Periodo 2: 0.080943 €/kWh                          -> 9.32€(P2)\n",
      "    - Peaje de acceso: 115kWh * 0.002879€/kWh = 0.33€\n",
      "    - Coste de la energía: 115kWh * 0.078064€/kWh = 8.99€\n",
      "    Periodo 3: 0.062982 €/kWh                          -> 8.90€(P3)\n",
      "    - Peaje de acceso: 141kWh * 0.000886€/kWh = 0.13€\n",
      "    - Coste de la energía: 141kWh * 0.062096€/kWh = 8.78€\n",
      "   *Tramo 2, de 01/01/2017 a 05/01/2017:\n",
      "    Periodo 1: 0.157608 €/kWh                          -> 2.74€(P1)\n",
      "    - Peaje de acceso: 17kWh * 0.062012€/kWh = 1.08€\n",
      "    - Coste de la energía: 17kWh * 0.095596€/kWh = 1.66€\n",
      "    Periodo 2: 0.088722 €/kWh                          -> 0.96€(P2)\n",
      "    - Peaje de acceso: 11kWh * 0.002879€/kWh = 0.03€\n",
      "    - Coste de la energía: 11kWh * 0.085843€/kWh = 0.93€\n",
      "    Periodo 3: 0.069366 €/kWh                          -> 0.88€(P3)\n",
      "    - Peaje de acceso: 13kWh * 0.000886€/kWh = 0.01€\n",
      "    - Coste de la energía: 13kWh * 0.068480€/kWh = 0.87€\n",
      "     -> Término de consumo                                             53.31 €\n",
      "\n",
      "\n",
      "\n",
      "- IMPUESTO ELÉCTRICO:\n",
      "    5.11269632% x (25.72€ + 53.31€)                                    4.04 €\n",
      "\n",
      "- EQUIPO DE MEDIDA:                                                    1.73 €\n",
      "\n",
      "- IVA O EQUIVALENTE:\n",
      "    21% de 84.80€                                                      17.81 €\n",
      "\n",
      "################################################################################\n",
      "# TOTAL FACTURA                                                        102.61 €\n",
      "################################################################################\n",
      "\u001b[0m\n"
     ]
    }
   ],
   "source": [
    "%matplotlib inline\n",
    "%config InlineBackend.figure_format = 'retina'\n",
    "import matplotlib.pyplot as plt\n",
    "from esiosdata import FacturaElec\n",
    "from esiosdata.facturapvpc import (TIPO_PEAJE_GEN, TIPO_PEAJE_NOC, TIPO_PEAJE_VHC, \n",
    "                                   ZONA_IMPUESTOS_PENIN_BALEARES, ZONA_IMPUESTOS_CANARIAS)\n",
    "from esiosdata.prettyprinting import *\n",
    "\n",
    "\n",
    "t_0, t_f = '2016-11-01', '2017-01-05'\n",
    "f1 = FacturaElec(t_0, t_f, tipo_peaje=TIPO_PEAJE_VHC, consumo=[219, 126, 154],\n",
    "                 zona_impuestos=ZONA_IMPUESTOS_PENIN_BALEARES)\n",
    "print_ok(f1)"
   ]
  },
  {
   "cell_type": "markdown",
   "metadata": {},
   "source": [
    "### Cambios de tarifa:"
   ]
  },
  {
   "cell_type": "code",
   "execution_count": 2,
   "metadata": {
    "ExecuteTime": {
     "end_time": "2017-02-01T16:41:44.795853",
     "start_time": "2017-02-01T16:41:44.728964"
    },
    "collapsed": false
   },
   "outputs": [
    {
     "name": "stdout",
     "output_type": "stream",
     "text": [
      "\u001b[34mFACTURA ELÉCTRICA:\n",
      "--------------------------------------------------------------------------------\n",
      "* Fecha inicio             \t01/11/2016\n",
      "* Fecha final              \t05/01/2017\n",
      "* Peaje de acceso          \t2.0DHA (Nocturna)\n",
      "* Potencia contratada      \t3.45 kW\n",
      "* Consumo periodo          \t499.00 kWh\n",
      "* ¿Bono Social?            \tNo\n",
      "* Equipo de medida         \t1.73 €\n",
      "* Impuestos                \tPenínsula y Baleares (IVA)\n",
      "* Días facturables         \t65\n",
      "--------------------------------------------------------------------------------\n",
      "\n",
      "- CÁLCULO DEL TÉRMINO FIJO POR POTENCIA CONTRATADA:\n",
      "    3.45 kW * 42.043426 €/kW/año * 60 días (2016) / 366 = 23.78 €\n",
      "    3.45 kW * 41.156426 €/kW/año * 5 días (2017) / 365 = 1.95 €\n",
      "     -> Término fijo                                                   25.72 €\n",
      "\n",
      "- CÁLCULO DEL TÉRMINO VARIABLE POR ENERGÍA CONSUMIDA (TARIFA 2.0DHA):\n",
      "   *Tramo 1, de 01/11/2016 a 31/12/2016:\n",
      "    Periodo 1: 0.151056 €/kWh                          -> 27.28€(P1)\n",
      "    - Peaje de acceso: 181kWh * 0.062012€/kWh = 11.20€\n",
      "    - Coste de la energía: 181kWh * 0.089044€/kWh = 16.08€\n",
      "    Periodo 2: 0.071876 €/kWh                          -> 19.94€(P2)\n",
      "    - Peaje de acceso: 277kWh * 0.002215€/kWh = 0.61€\n",
      "    - Coste de la energía: 277kWh * 0.069661€/kWh = 19.33€\n",
      "   *Tramo 2, de 01/01/2017 a 05/01/2017:\n",
      "    Periodo 1: 0.157868 €/kWh                          -> 2.42€(P1)\n",
      "    - Peaje de acceso: 15kWh * 0.062012€/kWh = 0.95€\n",
      "    - Coste de la energía: 15kWh * 0.095856€/kWh = 1.47€\n",
      "    Periodo 2: 0.078674 €/kWh                          -> 2.01€(P2)\n",
      "    - Peaje de acceso: 26kWh * 0.002215€/kWh = 0.06€\n",
      "    - Coste de la energía: 26kWh * 0.076459€/kWh = 1.95€\n",
      "     -> Término de consumo                                             51.66 €\n",
      "\n",
      "\n",
      "\n",
      "- IMPUESTO ELÉCTRICO:\n",
      "    5.11269632% x (25.72€ + 51.66€)                                    3.96 €\n",
      "\n",
      "- EQUIPO DE MEDIDA:                                                    1.73 €\n",
      "\n",
      "- IVA O EQUIVALENTE:\n",
      "    21% de 83.07€                                                      17.44 €\n",
      "\n",
      "################################################################################\n",
      "# TOTAL FACTURA                                                        100.51 €\n",
      "################################################################################\n",
      "\u001b[0m\n",
      "\u001b[36mFACTURA ELÉCTRICA:\n",
      "--------------------------------------------------------------------------------\n",
      "* Fecha inicio             \t01/11/2016\n",
      "* Fecha final              \t05/01/2017\n",
      "* Peaje de acceso          \t2.0A (General)\n",
      "* Potencia contratada      \t3.45 kW\n",
      "* Consumo periodo          \t499.00 kWh\n",
      "* ¿Bono Social?            \tNo\n",
      "* Equipo de medida         \t1.73 €\n",
      "* Impuestos                \tPenínsula y Baleares (IVA)\n",
      "* Días facturables         \t65\n",
      "--------------------------------------------------------------------------------\n",
      "\n",
      "- CÁLCULO DEL TÉRMINO FIJO POR POTENCIA CONTRATADA:\n",
      "    3.45 kW * 42.043426 €/kW/año * 60 días (2016) / 366 = 23.78 €\n",
      "    3.45 kW * 41.156426 €/kW/año * 5 días (2017) / 365 = 1.95 €\n",
      "     -> Término fijo                                                   25.72 €\n",
      "\n",
      "- CÁLCULO DEL TÉRMINO VARIABLE POR ENERGÍA CONSUMIDA (TARIFA 2.0A):\n",
      "   *Tramo 1, de 01/11/2016 a 31/12/2016:\n",
      "    Periodo 1: 0.125623 €/kWh                          -> 57.55€(P1)\n",
      "    - Peaje de acceso: 458kWh * 0.044027€/kWh = 20.17€\n",
      "    - Coste de la energía: 458kWh * 0.081596€/kWh = 37.38€\n",
      "   *Tramo 2, de 01/01/2017 a 05/01/2017:\n",
      "    Periodo 1: 0.132566 €/kWh                          -> 5.42€(P1)\n",
      "    - Peaje de acceso: 41kWh * 0.044027€/kWh = 1.80€\n",
      "    - Coste de la energía: 41kWh * 0.088539€/kWh = 3.62€\n",
      "     -> Término de consumo                                             62.97 €\n",
      "\n",
      "\n",
      "\n",
      "- IMPUESTO ELÉCTRICO:\n",
      "    5.11269632% x (25.72€ + 62.97€)                                    4.53 €\n",
      "\n",
      "- EQUIPO DE MEDIDA:                                                    1.73 €\n",
      "\n",
      "- IVA O EQUIVALENTE:\n",
      "    21% de 94.95€                                                      19.94 €\n",
      "\n",
      "################################################################################\n",
      "# TOTAL FACTURA                                                        114.89 €\n",
      "################################################################################\n",
      "\u001b[0m\n"
     ]
    }
   ],
   "source": [
    "f1.tipo_peaje = 2\n",
    "print_info(f1)\n",
    "\n",
    "f1.tipo_peaje = 'GEN'\n",
    "print_cyan(f1)"
   ]
  },
  {
   "cell_type": "markdown",
   "metadata": {},
   "source": [
    "### Consumo horario:"
   ]
  },
  {
   "cell_type": "code",
   "execution_count": 3,
   "metadata": {
    "ExecuteTime": {
     "end_time": "2017-02-01T16:41:44.803448",
     "start_time": "2017-02-01T16:41:44.797466"
    },
    "collapsed": false
   },
   "outputs": [
    {
     "name": "stdout",
     "output_type": "stream",
     "text": [
      "\u001b[1m\u001b[32mConsumo horario [<class 'pandas.core.series.Series'>]: 1560 horas, TOTAL=499.00 kWh\n",
      "Head:\n",
      "fecha\n",
      "2016-11-02 00:00:00+01:00    0.375806\n",
      "2016-11-02 01:00:00+01:00    0.405489\n",
      "2016-11-02 02:00:00+01:00    0.388756\n",
      "2016-11-02 03:00:00+01:00    0.373022\n",
      "2016-11-02 04:00:00+01:00    0.365404\n",
      "Name: kWh, dtype: float64\n",
      "Tail:fecha\n",
      "2017-01-05 19:00:00+01:00    0.618926\n",
      "2017-01-05 20:00:00+01:00    0.633574\n",
      "2017-01-05 21:00:00+01:00    0.620795\n",
      "2017-01-05 22:00:00+01:00    0.555414\n",
      "2017-01-05 23:00:00+01:00    0.474396\n",
      "Name: kWh, dtype: float64\u001b[0m\n"
     ]
    }
   ],
   "source": [
    "consumo_horario = f1.consumo_horario\n",
    "print_ok('Consumo horario [{}]: {} horas, TOTAL={:.2f} kWh\\nHead:\\n{}\\nTail:{}'\n",
    "         .format(type(consumo_horario), len(consumo_horario), consumo_horario.sum(), \n",
    "                 consumo_horario.head(), consumo_horario.tail())) "
   ]
  },
  {
   "cell_type": "markdown",
   "metadata": {},
   "source": [
    "### Factura a partir de consumo horario:"
   ]
  },
  {
   "cell_type": "code",
   "execution_count": 4,
   "metadata": {
    "ExecuteTime": {
     "end_time": "2017-02-01T16:41:45.111043",
     "start_time": "2017-02-01T16:41:44.805157"
    },
    "collapsed": false
   },
   "outputs": [
    {
     "data": {
      "text/plain": [
       "FACTURA ELÉCTRICA:\n",
       "--------------------------------------------------------------------------------\n",
       "* Fecha inicio             \t01/11/2016\n",
       "* Fecha final              \t05/01/2017\n",
       "* Peaje de acceso          \t2.0A (General)\n",
       "* Potencia contratada      \t3.45 kW\n",
       "* Consumo periodo          \t499.00 kWh\n",
       "* ¿Bono Social?            \tNo\n",
       "* Equipo de medida         \t1.73 €\n",
       "* Impuestos                \tPenínsula y Baleares (IVA)\n",
       "* Días facturables         \t65\n",
       "--------------------------------------------------------------------------------\n",
       "\n",
       "- CÁLCULO DEL TÉRMINO FIJO POR POTENCIA CONTRATADA:\n",
       "    3.45 kW * 42.043426 €/kW/año * 60 días (2016) / 366 = 23.78 €\n",
       "    3.45 kW * 41.156426 €/kW/año * 5 días (2017) / 365 = 1.95 €\n",
       "     -> Término fijo                                                   25.72 €\n",
       "\n",
       "- CÁLCULO DEL TÉRMINO VARIABLE POR ENERGÍA CONSUMIDA (TARIFA 2.0A):\n",
       "   *Tramo 1, de 01/11/2016 a 31/12/2016:\n",
       "    Periodo 1: 0.125623 €/kWh                          -> 57.55€(P1)\n",
       "    - Peaje de acceso: 458kWh * 0.044027€/kWh = 20.17€\n",
       "    - Coste de la energía: 458kWh * 0.081596€/kWh = 37.38€\n",
       "   *Tramo 2, de 01/01/2017 a 05/01/2017:\n",
       "    Periodo 1: 0.132566 €/kWh                          -> 5.42€(P1)\n",
       "    - Peaje de acceso: 41kWh * 0.044027€/kWh = 1.80€\n",
       "    - Coste de la energía: 41kWh * 0.088539€/kWh = 3.62€\n",
       "     -> Término de consumo                                             62.97 €\n",
       "\n",
       "\n",
       "\n",
       "- IMPUESTO ELÉCTRICO:\n",
       "    5.11269632% x (25.72€ + 62.97€)                                    4.53 €\n",
       "\n",
       "- EQUIPO DE MEDIDA:                                                    1.73 €\n",
       "\n",
       "- IVA O EQUIVALENTE:\n",
       "    21% de 94.95€                                                      19.94 €\n",
       "\n",
       "################################################################################\n",
       "# TOTAL FACTURA                                                        114.89 €\n",
       "################################################################################"
      ]
     },
     "execution_count": 4,
     "metadata": {},
     "output_type": "execute_result"
    }
   ],
   "source": [
    "f2 = FacturaElec(consumo=consumo_horario)\n",
    "f2"
   ]
  },
  {
   "cell_type": "markdown",
   "metadata": {
    "ExecuteTime": {
     "end_time": "2017-02-01T16:37:21.890457",
     "start_time": "2017-02-01T16:37:21.888077"
    }
   },
   "source": [
    "### Reparto de la facturación en otros intervalos:"
   ]
  },
  {
   "cell_type": "code",
   "execution_count": 5,
   "metadata": {
    "ExecuteTime": {
     "end_time": "2017-02-01T16:41:45.991088",
     "start_time": "2017-02-01T16:41:45.112840"
    },
    "collapsed": false
   },
   "outputs": [
    {
     "name": "stdout",
     "output_type": "stream",
     "text": [
      "\u001b[1m\u001b[32m114.9\u001b[0m\n",
      "\u001b[1m\u001b[32m114.89\u001b[0m\n"
     ]
    }
   ],
   "source": [
    "# Reparto en varias facturas:\n",
    "import datetime as dt\n",
    "\n",
    "consumo_total = f2.consumo_horario\n",
    "t0, tf = consumo_total.index[0].date(), consumo_total.index[-1].date()\n",
    "div_dias = f2.num_dias_factura // 3\n",
    "# print(t0, tf, div_dias, f2.num_dias_factura)\n",
    "\n",
    "c1 = consumo_total.loc[:t0 + dt.timedelta(days=div_dias)].iloc[:-1]\n",
    "c2 = consumo_total.loc[t0 + dt.timedelta(days=div_dias): t0 + dt.timedelta(days=2*div_dias)].iloc[:-1]\n",
    "c3 = consumo_total.loc[t0 + dt.timedelta(days=2*div_dias):]\n",
    "assert c1.shape[0] + c2.shape[0] + c3.shape[0] == consumo_total.shape[0]\n",
    "\n",
    "facturas = [FacturaElec(consumo=c) for c in [c1, c2, c3]]\n",
    "print_ok(sum([f.coste_total for f in facturas]))\n",
    "print_ok(f2.coste_total)"
   ]
  },
  {
   "cell_type": "code",
   "execution_count": null,
   "metadata": {
    "collapsed": true
   },
   "outputs": [],
   "source": []
  }
 ],
 "metadata": {
  "anaconda-cloud": {},
  "kernelspec": {
   "display_name": "Python [conda env:py35]",
   "language": "python",
   "name": "conda-env-py35-py"
  },
  "language_info": {
   "codemirror_mode": {
    "name": "ipython",
    "version": 3
   },
   "file_extension": ".py",
   "mimetype": "text/x-python",
   "name": "python",
   "nbconvert_exporter": "python",
   "pygments_lexer": "ipython3",
   "version": "3.5.2"
  }
 },
 "nbformat": 4,
 "nbformat_minor": 1
}
